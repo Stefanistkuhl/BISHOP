{
 "cells": [
  {
   "cell_type": "code",
   "execution_count": 18,
   "metadata": {},
   "outputs": [],
   "source": [
    "import pandas as pd\n",
    "from PIL import Image, ImageDraw, ImageOps\n",
    "import praw\n",
    "from datetime import datetime, timedelta \n",
    "import math\n",
    "import os\n",
    "from imgurpython import ImgurClient\n",
    "import time"
   ]
  },
  {
   "cell_type": "code",
   "execution_count": 2,
   "metadata": {},
   "outputs": [
    {
     "name": "stdout",
     "output_type": "stream",
     "text": [
      "Bishoplover69\n"
     ]
    }
   ],
   "source": [
    "#reddit account setup\n",
    "reddit = praw.Reddit(client_id='sBuZonrzHbbn0a-GQ9U5QQ',\n",
    "    client_secret='4yGT8iIBmvAslGY_QVYDV4PurHWioQ',\n",
    "    username='Bishoplover69',\n",
    "    password='23hkpOE3vL2@8zKIkNWl&35JXFY@vsF26U26TMhxP8o#arv5ihp#RZbFG#ako&#3M2bzv',\n",
    "    user_agent='BishopMosaicApp/0.0.1 (by u/Bishoplover69)')\n",
    "print(reddit.user.me())"
   ]
  },
  {
   "cell_type": "code",
   "execution_count": 16,
   "metadata": {},
   "outputs": [],
   "source": [
    "#imgur acc\n",
    "imgur_client_id = '47f2575afbb54a8'\n",
    "imgur_client_secret = 'a2d3a7e6761adf37d7060a7b76b33cf88e6293a8'"
   ]
  },
  {
   "cell_type": "code",
   "execution_count": 19,
   "metadata": {},
   "outputs": [
    {
     "name": "stdout",
     "output_type": "stream",
     "text": [
      "https://i.imgur.com/zNK0VFt.png\n"
     ]
    }
   ],
   "source": [
    "#imgur bild upload\n",
    "cwd = os.getcwd()\n",
    "imgur_client = ImgurClient(imgur_client_id, imgur_client_secret)\n",
    "image_path = os.path.join(cwd, \"leer.png\")\n",
    "uploaded_image = imgur_client.upload_from_path(image_path, config=None, anon=True)\n",
    "\n",
    "image_url = uploaded_image['link']\n",
    "print(image_url)\n"
   ]
  },
  {
   "cell_type": "code",
   "execution_count": 11,
   "metadata": {},
   "outputs": [],
   "source": [
    "#reddit post\n",
    "#funktion für likes geben schreiben\n",
    "subreddit_name = \"AnarchyChess\"\n",
    "likes = 1420\n",
    "\n",
    "#posttietel rein machen\n",
    "post_title = \"lol\"\n",
    "datum_post = datetime.now(\"%Y-%m-%d %H:%M:%S\")\n",
    "day_after_post = datum_post + timedelta(hours=24)\n",
    "day_after_post = day_after_post.strftime(\"%Y-%m-%d %H:%M:%S\")\n",
    "\n",
    "#subreddit = reddit.subreddit(subreddit_name)\n",
    "#subreddit.submit(post_title, url=image_url)\n"
   ]
  },
  {
   "cell_type": "code",
   "execution_count": 12,
   "metadata": {},
   "outputs": [],
   "source": [
    "cwd = os.getcwd()\n",
    "csv_file = os.path.join(cwd, \"aja.csv\")"
   ]
  },
  {
   "cell_type": "code",
   "execution_count": 13,
   "metadata": {},
   "outputs": [],
   "source": [
    "#csv magic\n",
    "if os.path.isfile(csv_file):\n",
    "    df = pd.read_csv(csv_file)\n",
    "else:\n",
    "    df = pd.DataFrame()\n",
    "\n",
    "likes_sum = int(df['likes'].sum()) if 'likes' in df.columns else 0\n",
    "likes_added = likes + int(likes_sum)\n",
    "\n",
    "new_row = pd.DataFrame({'post_date': [datum_post], 'post_title': [post_title], 'likes': [likes], 'likes_added': [likes_added]})\n",
    "df = pd.concat([df, new_row], ignore_index=True)\n",
    "\n",
    "\n",
    "df.to_csv(csv_file, index=False)"
   ]
  },
  {
   "cell_type": "code",
   "execution_count": 14,
   "metadata": {},
   "outputs": [],
   "source": [
    "#imagetest\n",
    "anz_bishops = 65536\n",
    "images_to_add = likes\n",
    "images_to_process = min(anz_bishops, likes_sum + images_to_add)\n",
    "\n",
    "img_bishop = Image.open(\"BISHOP.png\")\n",
    "canvas = Image.new('RGB', (8192,8192))\n",
    "target = Image.open(\"Bishop_full.png\")\n",
    "\n",
    "canvas_size = 8192\n",
    "b_size = 512\n",
    "\n",
    "num_cols = int(math.ceil(math.sqrt(anz_bishops)))\n",
    "num_rows = int(math.ceil(anz_bishops / num_cols))\n",
    "\n",
    "b_size = min(canvas_size // num_cols, canvas_size // num_rows)\n",
    "spacing = (canvas_size - b_size * num_cols) // (num_cols + 1)\n",
    "\n",
    "\n",
    "#target image to grid\n",
    "cell_width = canvas_size // num_cols\n",
    "cell_height = canvas_size // num_rows\n",
    "\n",
    "grid = [[0] * num_cols for _ in range(num_rows)]\n",
    "id_counter = 1\n",
    "for row in range(num_rows):\n",
    "    for col in range(num_cols):\n",
    "        grid[row][col] = id_counter\n",
    "        id_counter += 1\n",
    "\n",
    "def get_average_color(image, row, col, cell_width, cell_height):\n",
    "    x1 = col*cell_width\n",
    "    y1 = row*cell_height\n",
    "    x2 = x1+cell_width\n",
    "    y2 = y1 + cell_height\n",
    "\n",
    "    r_total, g_total, b_total = 0,0,0\n",
    "    pixel_count = 0\n",
    "    for x in range (x1,x2):\n",
    "        for y in range (y1,y2):\n",
    "            r,g,b = image.getpixel((x,y))\n",
    "            r_total += r\n",
    "            g_total += g\n",
    "            b_total += b\n",
    "            pixel_count += 1\n",
    "    \n",
    "    r_avg = r_total // pixel_count\n",
    "    g_avg = g_total // pixel_count\n",
    "    b_avg = b_total // pixel_count\n",
    "\n",
    "    return r_avg, g_avg, b_avg\n",
    "def colorize_image(image, target_color):\n",
    "    grayscale_img = ImageOps.grayscale(image)\n",
    "\n",
    "    colored_img = ImageOps.colorize(grayscale_img, 'black', target_color)\n",
    "    return colored_img\n",
    "\n",
    "\n",
    "# Step 5: Replace grid cells with small images\n",
    "for row in range(num_rows):\n",
    "    for col in range(num_cols):\n",
    "        img_index = row * num_cols + col\n",
    "        if img_index < images_to_process:\n",
    "            # Resize and paste image\n",
    "            \n",
    "            average_color = get_average_color(target, row, col, cell_width, cell_height)\n",
    "                \n",
    "            colored_img_bishop = colorize_image(img_bishop, average_color)\n",
    "\n",
    "            resized_colored_img_bishop = colored_img_bishop.resize((b_size, b_size), resample=Image.LANCZOS)\n",
    "            x = spacing + col * (b_size + spacing)\n",
    "            y = spacing + row * (b_size + spacing)\n",
    "            canvas.paste(resized_colored_img_bishop, (x, y))\n",
    "# Step 6: Merge the small images\n",
    "draw = ImageDraw.Draw(canvas)\n",
    "canvas.save(\"test.png\")"
   ]
  }
 ],
 "metadata": {
  "kernelspec": {
   "display_name": "Python 3",
   "language": "python",
   "name": "python3"
  },
  "language_info": {
   "codemirror_mode": {
    "name": "ipython",
    "version": 3
   },
   "file_extension": ".py",
   "mimetype": "text/x-python",
   "name": "python",
   "nbconvert_exporter": "python",
   "pygments_lexer": "ipython3",
   "version": "3.10.9"
  },
  "orig_nbformat": 4
 },
 "nbformat": 4,
 "nbformat_minor": 2
}
